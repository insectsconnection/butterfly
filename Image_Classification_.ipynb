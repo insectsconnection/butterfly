{
  "nbformat": 4,
  "nbformat_minor": 0,
  "metadata": {
    "colab": {
      "provenance": [],
      "include_colab_link": true
    },
    "kernelspec": {
      "name": "python3",
      "display_name": "Python 3"
    },
    "language_info": {
      "name": "python"
    }
  },
  "cells": [
    {
      "cell_type": "markdown",
      "metadata": {
        "id": "view-in-github",
        "colab_type": "text"
      },
      "source": [
        "<a href=\"https://colab.research.google.com/github/insectsconnection/butterfly/blob/main/Image_Classification_.ipynb\" target=\"_parent\"><img src=\"https://colab.research.google.com/assets/colab-badge.svg\" alt=\"Open In Colab\"/></a>"
      ]
    },
    {
      "cell_type": "code",
      "execution_count": 1,
      "metadata": {
        "colab": {
          "base_uri": "https://localhost:8080/"
        },
        "id": "QtHCPQGC5ZCd",
        "outputId": "6bf9b9a7-4dc3-4fe3-9c28-900846b82da5"
      },
      "outputs": [
        {
          "output_type": "stream",
          "name": "stdout",
          "text": [
            "Looking in indexes: https://pypi.org/simple, https://us-python.pkg.dev/colab-wheels/public/simple/\n",
            "Collecting bing-image-downloader\n",
            "  Downloading bing_image_downloader-1.1.2-py3-none-any.whl (5.9 kB)\n",
            "Installing collected packages: bing-image-downloader\n",
            "Successfully installed bing-image-downloader-1.1.2\n"
          ]
        }
      ],
      "source": [
        "!pip install bing-image-downloader\n",
        "\n"
      ]
    },
    {
      "cell_type": "code",
      "source": [
        "!mkdir images"
      ],
      "metadata": {
        "id": "azg8gpN9DMuX"
      },
      "execution_count": 2,
      "outputs": []
    },
    {
      "cell_type": "code",
      "source": [
        "import numpy as np \n",
        "import pandas as pd\n",
        "import cv2\n",
        "import matplotlib.pyplot as plt\n",
        "from PIL import Image\n",
        "from tensorflow.keras import layers\n",
        "from tensorflow.keras.preprocessing.image import ImageDataGenerator, load_img\n",
        "from tensorflow.keras.models import Sequential\n",
        "from tensorflow.keras.layers import Conv2D, MaxPooling2D\n",
        "from tensorflow.keras.layers import Activation, Dropout, Flatten, Dense\n",
        "from tensorflow.keras.optimizers import Adam\n",
        "import tensorflow as tf\n",
        "import os\n"
      ],
      "metadata": {
        "id": "aS_81xexbMWU"
      },
      "execution_count": 10,
      "outputs": []
    },
    {
      "cell_type": "code",
      "source": [
        "from bing_image_downloader import downloader\n",
        "downloader. download(\"Graphium agamemnon eggs\",limit=30,output_dir=\"images\",adult_filter_off=True)\n"
      ],
      "metadata": {
        "colab": {
          "base_uri": "https://localhost:8080/"
        },
        "id": "n9E5CUo8DSRO",
        "outputId": "dd03a4b1-4f3b-4309-9a5d-a41c5c8d7675"
      },
      "execution_count": 8,
      "outputs": [
        {
          "output_type": "stream",
          "name": "stdout",
          "text": [
            "[%] Downloading Images to /content/images/Graphium agamemnon eggs\n",
            "\n",
            "\n",
            "[!!]Indexing page: 1\n",
            "\n",
            "[%] Indexed 30 Images on Page 1.\n",
            "\n",
            "===============================================\n",
            "\n",
            "[%] Downloading Image #1 from https://butterflypupae.com/wp-content/uploads/2021/04/agamemnon.jpeg\n",
            "[%] File Downloaded !\n",
            "\n",
            "[%] Downloading Image #2 from https://1.bp.blogspot.com/-2EhvkhAafhI/WxWqg6u_3iI/AAAAAAAABEc/B5uxUYf5WX45rcsbRKVeDB-nMS5-uJmCwCKgBGAs/s1600/Graphium%2Bagamemnon%2Bgallery.jpg\n",
            "[%] File Downloaded !\n",
            "\n",
            "[%] Downloading Image #3 from https://live.staticflickr.com/65535/48584223292_338540d763_n.jpg\n",
            "[%] File Downloaded !\n",
            "\n",
            "[%] Downloading Image #4 from http://lepidoptera.butterflyhouse.com.au/papi/agamemnon1.jpg\n",
            "[%] File Downloaded !\n",
            "\n",
            "[%] Downloading Image #5 from http://insecta.pro/images/1024/38582.jpg\n",
            "[%] File Downloaded !\n",
            "\n",
            "[%] Downloading Image #6 from https://malaysiabutterflies.myspecies.info/sites/malaysiabutterflies.myspecies.info/files/IMG_5951.JPG\n",
            "[%] File Downloaded !\n",
            "\n",
            "[%] Downloading Image #7 from https://www.pacificsciencecenter.org/wp-content/uploads/Graphium-agamemnon-2016-05-21-1080x608.jpg\n",
            "[!] Issue getting: https://www.pacificsciencecenter.org/wp-content/uploads/Graphium-agamemnon-2016-05-21-1080x608.jpg\n",
            "[!] Error:: HTTP Error 404: Not Found\n",
            "[%] Downloading Image #7 from https://indiabiodiversity.org/files-api/api/get/raw/img/Graphium_agamemnon/134.jpg\n",
            "[%] File Downloaded !\n",
            "\n",
            "[%] Downloading Image #8 from https://indiabiodiversity.org/files-api/api/get/crop/img/Graphium_agamemnon/902.JPG?w=600&amp;h=330&amp;fit=center&amp;preserve=true\n",
            "[%] File Downloaded !\n",
            "\n",
            "[%] Downloading Image #9 from https://biotataiwan.org/images/Graphium-agamemnon3.jpg\n",
            "[%] File Downloaded !\n",
            "\n",
            "[%] Downloading Image #10 from https://www.aureus-butterflies.de/WebRoot/Store18/Shops/17926950/5939/8DBD/8718/30D4/0228/C0A8/2BBA/A5DB/SAM_0215.JPG\n",
            "[%] File Downloaded !\n",
            "\n",
            "[%] Downloading Image #11 from https://cristinasworldview.files.wordpress.com/2018/08/dscn7911.jpg?w=768\n",
            "[Error]Invalid image, not saving https://cristinasworldview.files.wordpress.com/2018/08/dscn7911.jpg?w=768\n",
            "\n",
            "[!] Issue getting: https://cristinasworldview.files.wordpress.com/2018/08/dscn7911.jpg?w=768\n",
            "[!] Error:: Invalid image, not saving https://cristinasworldview.files.wordpress.com/2018/08/dscn7911.jpg?w=768\n",
            "\n",
            "[%] Downloading Image #11 from https://www.aureus-butterflies.de/WebRoot/Store18/Shops/17926950/586E/AF56/8887/E96D/4C51/C0A8/2ABB/1E0C/P1160391_m.JPG\n",
            "[%] File Downloaded !\n",
            "\n",
            "[%] Downloading Image #12 from https://live.staticflickr.com/1203/1049152152_a8c642997e_b.jpg\n",
            "[%] File Downloaded !\n",
            "\n",
            "[%] Downloading Image #13 from http://www.butterflyhouse.com.au/lepidoptera/papi/agamemnon2.jpg\n",
            "[%] File Downloaded !\n",
            "\n",
            "[%] Downloading Image #14 from https://3.bp.blogspot.com/-cviHAzSNrGs/W934WsuDX5I/AAAAAAAABlA/FDm7U6S9mCEMwhHsuRkZFIWS5xtwrA_9wCLcBGAs/s1600/Graphium-agamemnon-gallery2.jpg\n",
            "[%] File Downloaded !\n",
            "\n",
            "[%] Downloading Image #15 from http://insecta.pro/images/1024/38324.jpg\n",
            "[%] File Downloaded !\n",
            "\n",
            "[%] Downloading Image #16 from https://live.staticflickr.com/3676/9702471721_d45fc7ef68.jpg\n",
            "[%] File Downloaded !\n",
            "\n",
            "[%] Downloading Image #17 from https://www.scienceimage.csiro.au/images/cache/detail/739_0_BE2690.jpg\n",
            "[%] File Downloaded !\n",
            "\n",
            "[%] Downloading Image #18 from https://www.insectdesigns.com/images/P/paperedgraphiumagamemnonmal-01.jpg\n",
            "[%] File Downloaded !\n",
            "\n",
            "[%] Downloading Image #19 from https://www.aureus-butterflies.de/WebRoot/Store18/Shops/17926950/586E/B013/2440/F525/9331/C0A8/2BBA/95C8/SAM_8000_m.JPG\n",
            "[%] File Downloaded !\n",
            "\n",
            "[%] Downloading Image #20 from http://insecta.pro/images/1024/60513.jpg\n",
            "[%] File Downloaded !\n",
            "\n",
            "[%] Downloading Image #21 from http://insecta.pro/images/1024/40291.jpg\n",
            "[%] File Downloaded !\n",
            "\n",
            "[%] Downloading Image #22 from https://live.staticflickr.com/3900/33030084861_6b0eb67805_b.jpg\n",
            "[%] File Downloaded !\n",
            "\n",
            "[%] Downloading Image #23 from https://live.staticflickr.com/65535/51092039321_1d3ac615b8_b.jpg\n",
            "[%] File Downloaded !\n",
            "\n",
            "[%] Downloading Image #24 from https://wingscales.com/content/record/275-1-4c36a.jpg\n",
            "[%] File Downloaded !\n",
            "\n",
            "[%] Downloading Image #25 from http://planetababochek.com.ua/wp-content/uploads/2019/05/Graphium-agamemnon.jpg\n",
            "[%] File Downloaded !\n",
            "\n",
            "[%] Downloading Image #26 from https://live.staticflickr.com/7207/6798813628_17172b81e9_n.jpg\n",
            "[%] File Downloaded !\n",
            "\n",
            "[%] Downloading Image #27 from https://live.staticflickr.com/4125/5191202849_fee78e7e33_b.jpg\n",
            "[%] File Downloaded !\n",
            "\n",
            "[%] Downloading Image #28 from https://cristinasworldview.files.wordpress.com/2018/08/dscn7890.jpg?w=300\n",
            "[Error]Invalid image, not saving https://cristinasworldview.files.wordpress.com/2018/08/dscn7890.jpg?w=300\n",
            "\n",
            "[!] Issue getting: https://cristinasworldview.files.wordpress.com/2018/08/dscn7890.jpg?w=300\n",
            "[!] Error:: Invalid image, not saving https://cristinasworldview.files.wordpress.com/2018/08/dscn7890.jpg?w=300\n",
            "\n",
            "\n",
            "\n",
            "[!!]Indexing page: 2\n",
            "\n",
            "[%] Indexed 35 Images on Page 2.\n",
            "\n",
            "===============================================\n",
            "\n",
            "[%] Downloading Image #28 from https://biotataiwan.org/images/Graphium-agamemnon2.jpg\n",
            "[%] File Downloaded !\n",
            "\n",
            "[%] Downloading Image #29 from https://live.staticflickr.com/65535/50332547951_22d8bec2a1_n.jpg\n",
            "[%] File Downloaded !\n",
            "\n",
            "[%] Downloading Image #30 from http://phytoimages.siu.edu/users/paraman1/1_8_18/Upload8Jan18/5389_GraphiumAgamemnon.jpg\n",
            "[%] File Downloaded !\n",
            "\n",
            "\n",
            "\n",
            "[%] Done. Downloaded 30 images.\n"
          ]
        }
      ]
    }
  ]
}